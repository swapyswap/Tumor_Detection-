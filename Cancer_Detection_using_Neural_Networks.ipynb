{
  "nbformat": 4,
  "nbformat_minor": 0,
  "metadata": {
    "colab": {
      "name": "Cancer Detection using Neural Networks.ipynb",
      "provenance": [],
      "collapsed_sections": [],
      "include_colab_link": true
    },
    "kernelspec": {
      "name": "python3",
      "display_name": "Python 3"
    },
    "language_info": {
      "name": "python"
    },
    "accelerator": "GPU"
  },
  "cells": [
    {
      "cell_type": "markdown",
      "metadata": {
        "id": "view-in-github",
        "colab_type": "text"
      },
      "source": [
        "<a href=\"https://colab.research.google.com/github/swapyswap/Tumor_Detection-/blob/main/Cancer_Detection_using_Neural_Networks.ipynb\" target=\"_parent\"><img src=\"https://colab.research.google.com/assets/colab-badge.svg\" alt=\"Open In Colab\"/></a>"
      ]
    },
    {
      "cell_type": "code",
      "metadata": {
        "id": "70M1y2HIRQdR"
      },
      "source": [
        "!wget https://www.dropbox.com/s/78tdjt4a9xdwmcx/archive%20%282%29.zip?dl=0"
      ],
      "execution_count": null,
      "outputs": []
    },
    {
      "cell_type": "code",
      "metadata": {
        "id": "MHxDf5uTRaRK"
      },
      "source": [
        "!unzip arch*"
      ],
      "execution_count": null,
      "outputs": []
    },
    {
      "cell_type": "code",
      "metadata": {
        "id": "Jp3Uk1DmRh3z"
      },
      "source": [
        "import pandas as pd\n",
        "import numpy as np\n",
        "import shutil\n",
        "import glob\n",
        "import os\n",
        "import math\n",
        "import warnings\n",
        "warnings.filterwarnings(action=\"ignore\")\n",
        "import matplotlib.pyplot as plt\n",
        "%matplotlib inline\n",
        "import seaborn as sns\n",
        "from sklearn.preprocessing import StandardScaler \n",
        "from sklearn.model_selection import train_test_split \n",
        "from sklearn.metrics import classification_report\n",
        "#tensorflow libraries\n",
        "import tensorflow as tf\n",
        "from tensorflow import keras\n",
        "from tensorflow.keras.models import Sequential\n",
        "from tensorflow.keras.layers import MaxPooling2D, Dense, Dropout,Flatten, Conv2D\n",
        "from tensorflow.keras.optimizers import Adam\n",
        "from tensorflow.keras.losses import SparseCategoricalCrossentropy\n",
        "from keras.preprocessing.image import ImageDataGenerator\n",
        "from tensorflow.keras.callbacks import TensorBoard,EarlyStopping "
      ],
      "execution_count": 3,
      "outputs": []
    },
    {
      "cell_type": "code",
      "metadata": {
        "id": "27wQxT7NRyzf"
      },
      "source": [
        "#count the number of images in the respective classes\n",
        "ROOT_DIR=\"/content/Brain Tumor Data Set/Brain Tumor Data Set\"\n",
        "number_of_images={}\n",
        "for dir in os.listdir(ROOT_DIR):\n",
        "  number_of_images[dir]=len(os.listdir(os.path.join(ROOT_DIR,dir)) )\n"
      ],
      "execution_count": 4,
      "outputs": []
    },
    {
      "cell_type": "code",
      "metadata": {
        "id": "7iN63GLOSDOU"
      },
      "source": [
        "number_of_images.items()"
      ],
      "execution_count": null,
      "outputs": []
    },
    {
      "cell_type": "markdown",
      "metadata": {
        "id": "ZlvMOlaqSdfx"
      },
      "source": [
        "We splitted the data in such a way that:-\n",
        "70% for Train(training) data\n",
        "15% for validation\n",
        "15% for testing"
      ]
    },
    {
      "cell_type": "code",
      "metadata": {
        "id": "MZYvmnmqSg5D"
      },
      "source": [
        "def datafolder(p,split):                                                                                                  #Niranjan\n",
        "   #we will create a folder for storing data for train test\n",
        "  if not os.path.exists(\"./\"+p):\n",
        "   os.mkdir(\"./\"+p)\n",
        "\n",
        "   for dir in os.listdir(ROOT_DIR):\n",
        "    os.makedirs(\"./\"+p+\"/\"+dir)\n",
        "    for img in np.random.choice(a=os.listdir(os.path.join(ROOT_DIR, dir)),size=(math.floor(split*number_of_images[dir])-5),replace=False):\n",
        "      O=os.path.join(ROOT_DIR,dir,img)\n",
        "      D=os.path.join(\"./\"+p,dir)\n",
        "      shutil.copy(O,D)\n",
        "      os.remove(O)\n",
        "  else: \n",
        "     print(f\"{p}folder exists\")\n",
        "      "
      ],
      "execution_count": 6,
      "outputs": []
    },
    {
      "cell_type": "code",
      "metadata": {
        "id": "PdfwN9jxS6Gq"
      },
      "source": [
        "datafolder(\"train\",0.7)"
      ],
      "execution_count": 7,
      "outputs": []
    },
    {
      "cell_type": "code",
      "metadata": {
        "id": "kfIv2IQ9TBnD"
      },
      "source": [
        "datafolder(\"val\",0.15)"
      ],
      "execution_count": 8,
      "outputs": []
    },
    {
      "cell_type": "code",
      "metadata": {
        "id": "CMon1RKGTE81"
      },
      "source": [
        "datafolder(\"test\",0.15)"
      ],
      "execution_count": 9,
      "outputs": []
    },
    {
      "cell_type": "markdown",
      "metadata": {
        "id": "pV12ijBATlWH"
      },
      "source": [
        "# MODEL BUILD"
      ]
    },
    {
      "cell_type": "code",
      "metadata": {
        "id": "GluL4kWbTrHP"
      },
      "source": [
        "from keras.layers import Conv2D,MaxPool2D,Dropout,Flatten,Dense,BatchNormalization,GlobalAvgPool2D\n",
        "from keras.models import Sequential \n",
        "from keras.preprocessing.image import ImageDataGenerator\n",
        "import keras "
      ],
      "execution_count": 10,
      "outputs": []
    },
    {
      "cell_type": "code",
      "metadata": {
        "id": "rhlA1fh5UHwa"
      },
      "source": [
        "#model.compile(optimizer='adam', loss= keras.losses.binary_crossentropy,metrics=['accuracy'])"
      ],
      "execution_count": 11,
      "outputs": []
    },
    {
      "cell_type": "markdown",
      "metadata": {
        "id": "7El3nAScUUnF"
      },
      "source": [
        "## PREPARING OUR DATA USING DATA GENERATOR"
      ]
    },
    {
      "cell_type": "code",
      "metadata": {
        "id": "xrQCOMNzAfcq"
      },
      "source": [
        "from keras.preprocessing.image import ImageDataGenerator\n",
        "from keras.applications.mobilenet import preprocess_input"
      ],
      "execution_count": 12,
      "outputs": []
    },
    {
      "cell_type": "code",
      "metadata": {
        "id": "n-tLbMMJUili"
      },
      "source": [
        "def preprocessingImages1(path): #nischay\n",
        "  \"\"\"\n",
        "  input : Path\n",
        "  output : Pre processed images\n",
        "  \"\"\"\n",
        "  image_data = ImageDataGenerator(zoom_range=0.2, shear_range=0.2,preprocessing_function= preprocess_input , horizontal_flip=True)\n",
        "  image = image_data.flow_from_directory(directory=path , target_size =(224,224), batch_size= 32, class_mode= 'binary')\n",
        "\n",
        "  return image"
      ],
      "execution_count": 13,
      "outputs": []
    },
    {
      "cell_type": "code",
      "metadata": {
        "id": "N4L0IW_SUbmR"
      },
      "source": [
        "path=\"/content/train\"\n",
        "train_data= preprocessingImages1(path)"
      ],
      "execution_count": null,
      "outputs": []
    },
    {
      "cell_type": "markdown",
      "metadata": {
        "id": "s-cnIhYIU4Ay"
      },
      "source": [
        "# for testing data preprOcessed data"
      ]
    },
    {
      "cell_type": "code",
      "metadata": {
        "id": "EBDCLZYLU25c"
      },
      "source": [
        "def preprocessingImages2(path):\n",
        "  \"\"\"\n",
        "  input : Path\n",
        "  output : Pre processed images\n",
        "  \"\"\"\n",
        "  image_data = ImageDataGenerator(preprocessing_function= preprocess_input)\n",
        "  image = image_data.flow_from_directory(directory=path , target_size =(224,224), batch_size= 32, class_mode= 'binary')\n",
        "\n",
        "  return image"
      ],
      "execution_count": 15,
      "outputs": []
    },
    {
      "cell_type": "code",
      "metadata": {
        "colab": {
          "base_uri": "https://localhost:8080/"
        },
        "id": "1TDaW3NXVAQ9",
        "outputId": "5033bb22-3429-4d7a-f6b0-f706724fe8a9"
      },
      "source": [
        "path=\"/content/test\"\n",
        "test_data=preprocessingImages2(path)"
      ],
      "execution_count": 16,
      "outputs": [
        {
          "output_type": "stream",
          "text": [
            "Found 679 images belonging to 2 classes.\n"
          ],
          "name": "stdout"
        }
      ]
    },
    {
      "cell_type": "code",
      "metadata": {
        "id": "zgH6qAlSVEU6"
      },
      "source": [
        "path=\"/content/val\"\n",
        "val_data=preprocessingImages2(path)"
      ],
      "execution_count": null,
      "outputs": []
    },
    {
      "cell_type": "code",
      "metadata": {
        "id": "rSF_5i81VIUx"
      },
      "source": [
        "# Early stopping and model check point\n",
        "\n",
        "from keras.callbacks import ModelCheckpoint , EarlyStopping\n",
        "\n",
        "#early stopping\n",
        "\n",
        "es = EarlyStopping(monitor=\"val_accuracy\",min_delta=0.01, patience= 3,verbose=1,mode='auto')\n",
        "\n",
        "#model check point \n",
        "mc = ModelCheckpoint(monitor=\"val_accuracy\",filepath=\"./bestmodel.h5\", save_best_only = True,verbose=1,mode='auto')\n",
        "\n",
        "cd=[es,mc]"
      ],
      "execution_count": 18,
      "outputs": []
    },
    {
      "cell_type": "markdown",
      "metadata": {
        "id": "_qYt4HyCVTS7"
      },
      "source": [
        "# MODEL TRAINING"
      ]
    },
    {
      "cell_type": "code",
      "metadata": {
        "id": "ep3wATkZ9lp_"
      },
      "source": [
        "import numpy as np\n",
        "import matplotlib.pyplot as plt\n",
        "from keras.layers import Flatten, Dense\n",
        "from keras.models import Model, load_model\n",
        "from keras.applications.mobilenet import MobileNet\n",
        "import keras"
      ],
      "execution_count": 19,
      "outputs": []
    },
    {
      "cell_type": "code",
      "metadata": {
        "id": "7rUmvqJ4e4t1"
      },
      "source": [
        "base_model = MobileNet(input_shape=(224,224,3), include_top= False)"
      ],
      "execution_count": null,
      "outputs": []
    },
    {
      "cell_type": "code",
      "metadata": {
        "id": "kcdEPDRuf5sD"
      },
      "source": [
        "for layer in base_model.layers:\n",
        "  layer.trainable = False"
      ],
      "execution_count": 21,
      "outputs": []
    },
    {
      "cell_type": "code",
      "metadata": {
        "id": "B69YQeC7gQlO"
      },
      "source": [
        "X = Flatten()(base_model.output)\n",
        "X = Dense(units=1, activation='sigmoid')(X)\n",
        "\n",
        "model = Model(base_model.input, X)"
      ],
      "execution_count": 22,
      "outputs": []
    },
    {
      "cell_type": "code",
      "metadata": {
        "id": "dK7iXokthFz-"
      },
      "source": [
        "model.summary()"
      ],
      "execution_count": null,
      "outputs": []
    },
    {
      "cell_type": "code",
      "metadata": {
        "id": "TKU3FeKKhNnW"
      },
      "source": [
        "model.compile(optimizer='rmsprop', loss=keras.losses.binary_crossentropy, metrics=['accuracy'])"
      ],
      "execution_count": 24,
      "outputs": []
    },
    {
      "cell_type": "code",
      "metadata": {
        "id": "DLHasDMBiHtB"
      },
      "source": [
        "## Call back\n",
        "from keras.callbacks import ModelCheckpoint, EarlyStopping\n",
        "\n",
        "#model checkpoint\n",
        "mc = ModelCheckpoint(filepath=\"bestmodel.h5\", monitor='val_accuracy', verbose=1, save_best_only= True)\n",
        "\n",
        "#Early stopping\n",
        "es = EarlyStopping(monitor=\"val_accuracy\", min_delta=0.01, patience=3, verbose=1)\n",
        "\n",
        "cb=[mc, es]"
      ],
      "execution_count": 25,
      "outputs": []
    },
    {
      "cell_type": "code",
      "metadata": {
        "id": "qeEHnNAph8Jx"
      },
      "source": [
        "hist = model.fit_generator(train_data, steps_per_epoch=8, epochs=30, validation_data=val_data, validation_steps=16, callbacks=cb)"
      ],
      "execution_count": null,
      "outputs": []
    },
    {
      "cell_type": "code",
      "metadata": {
        "id": "MnXqy6Dpk0Dm"
      },
      "source": [
        "#load best fit model\n",
        "model= load_model(\"/content/bestmodel.h5\")"
      ],
      "execution_count": 27,
      "outputs": []
    },
    {
      "cell_type": "code",
      "metadata": {
        "id": "K46bn_USlH5j"
      },
      "source": [
        "acc= model.evaluate_generator(test_data)[1]\n",
        "\n",
        "print(f\"Our model accuracy is: {acc*100} % \")"
      ],
      "execution_count": null,
      "outputs": []
    },
    {
      "cell_type": "code",
      "metadata": {
        "id": "BZwA2EqBln-s"
      },
      "source": [
        "h = hist.history\n",
        "h.keys()"
      ],
      "execution_count": null,
      "outputs": []
    },
    {
      "cell_type": "code",
      "metadata": {
        "id": "P-hhqQThl0_Z"
      },
      "source": [
        "plt.plot(h['accuracy'])\n",
        "plt.plot(h['val_accuracy'], c='red')\n",
        "plt.title(\"acc vs val-acc\")\n",
        "plt.show"
      ],
      "execution_count": null,
      "outputs": []
    },
    {
      "cell_type": "code",
      "metadata": {
        "id": "eXgPpoF4mlm5"
      },
      "source": [
        "plt.plot(h['loss'])\n",
        "plt.plot(h['val_loss'], c='red')\n",
        "plt.title(\"loss vs val-loss\")\n",
        "plt.show"
      ],
      "execution_count": null,
      "outputs": []
    },
    {
      "cell_type": "code",
      "metadata": {
        "id": "KNoxE4TsnEdc"
      },
      "source": [
        "from keras.preprocessing import image"
      ],
      "execution_count": 32,
      "outputs": []
    },
    {
      "cell_type": "code",
      "metadata": {
        "id": "UgEdqtTpn9TO"
      },
      "source": [
        "#path for the image to see if it predicts the correct class or not\n",
        "\n",
        "path = \"/content/Brain Tumor Data Set/Brain Tumor Data Set/Brain Tumor/Cancer (1902).jpg\"\n",
        "img = image.load_img(path, target_size=(224, 224) )\n",
        "\n",
        "i=image.img_to_array(img)/255\n",
        "#i=preprocess_input(i)\n",
        "input_arr=np.array([i])\n",
        "input_arr.shape\n",
        "\n",
        "\n",
        "predictions=model.predict(input_arr)\n",
        "\n",
        "#predictions=np.argmax(predictions,axis=1)\n",
        "print(predictions)\n",
        "\n",
        "#precentage of cancer \n",
        "if predictions > 0.6:\n",
        "  print(\"non cancerous\")\n",
        "else :\n",
        "  print(\"cancerous\")\n",
        "\n",
        "#to display the image\n",
        "plt.imshow(input_arr[0])\n",
        "plt.show()\n",
        "input_arr.shape\n",
        "input_arr =np.expand_dims(input_arr, axis=0)"
      ],
      "execution_count": null,
      "outputs": []
    }
  ]
}